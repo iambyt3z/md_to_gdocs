{
  "cells": [
    {
      "cell_type": "code",
      "execution_count": null,
      "metadata": {
        "colab": {
          "base_uri": "https://localhost:8080/"
        },
        "id": "rQPpwGszzUJX",
        "outputId": "ecc43e5d-b4ea-4604-e894-95b843b99596"
      },
      "outputs": [],
      "source": [
        "!pip install -q -r requirements.txt"
      ]
    },
    {
      "cell_type": "code",
      "execution_count": 30,
      "metadata": {
        "id": "JeSYxyykvmQu"
      },
      "outputs": [],
      "source": [
        "from md_to_gdocs import GoogleDocsConverter"
      ]
    },
    {
      "cell_type": "code",
      "execution_count": 31,
      "metadata": {
        "id": "MIV5as32vqTB"
      },
      "outputs": [],
      "source": [
        "MARKDOWN_CONTENT = \"\"\"# Product Team Sync - May 15, 2023\n",
        "\n",
        "## Attendees\n",
        "- Sarah Chen (Product Lead)\n",
        "- Mike Johnson (Engineering)\n",
        "- Anna Smith (Design)\n",
        "- David Park (QA)\n",
        "\n",
        "## Agenda\n",
        "\n",
        "### 1. Sprint Review\n",
        "* Completed Features\n",
        "  * User authentication flow\n",
        "  * Dashboard redesign\n",
        "  * Performance optimization\n",
        "    * Reduced load time by 40%\n",
        "    * Implemented caching solution\n",
        "* Pending Items\n",
        "  * Mobile responsive fixes\n",
        "  * Beta testing feedback integration\n",
        "\n",
        "### 2. Current Challenges\n",
        "* Resource constraints in QA team\n",
        "* Third-party API integration delays\n",
        "* User feedback on new UI\n",
        "  * Navigation confusion\n",
        "  * Color contrast issues\n",
        "\n",
        "### 3. Next Sprint Planning\n",
        "* Priority Features\n",
        "  * Payment gateway integration\n",
        "  * User profile enhancement\n",
        "  * Analytics dashboard\n",
        "* Technical Debt\n",
        "  * Code refactoring\n",
        "  * Documentation updates\n",
        "\n",
        "## Action Items\n",
        "- [ ] @sarah: Finalize Q3 roadmap by Friday\n",
        "- [ ] @mike: Schedule technical review for payment integration\n",
        "- [ ] @anna: Share updated design system documentation\n",
        "- [ ] @david: Prepare QA resource allocation proposal\n",
        "\n",
        "## Next Steps\n",
        "* Schedule individual team reviews\n",
        "* Update sprint board\n",
        "* Share meeting summary with stakeholders\n",
        "\n",
        "## Notes\n",
        "* Next sync scheduled for May 22, 2023\n",
        "* Platform demo for stakeholders on May 25\n",
        "* Remember to update JIRA tickets\n",
        "\"\"\""
      ]
    },
    {
      "cell_type": "code",
      "execution_count": null,
      "metadata": {
        "colab": {
          "base_uri": "https://localhost:8080/"
        },
        "id": "XCLr1WGiwAWb",
        "outputId": "4c20e05a-f598-427a-b2b0-004604bfde9a"
      },
      "outputs": [],
      "source": [
        "converter = GoogleDocsConverter()\n",
        "if converter.authenticate():\n",
        "    doc_id = converter.create_document(\"Converted Meeting Notes\")\n",
        "    if doc_id and converter.convert_content(MARKDOWN_CONTENT, doc_id):\n",
        "        print(f\"Document created: https://docs.google.com/document/d/{doc_id}\")"
      ]
    }
  ],
  "metadata": {
    "colab": {
      "provenance": []
    },
    "kernelspec": {
      "display_name": "Python 3",
      "name": "python3"
    },
    "language_info": {
      "name": "python"
    }
  },
  "nbformat": 4,
  "nbformat_minor": 0
}
